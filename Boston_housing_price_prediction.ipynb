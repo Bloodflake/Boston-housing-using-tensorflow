{
  "nbformat": 4,
  "nbformat_minor": 0,
  "metadata": {
    "colab": {
      "name": "Boston_housing_price_prediction.ipynb",
      "provenance": [],
      "include_colab_link": true
    },
    "kernelspec": {
      "name": "python3",
      "display_name": "Python 3"
    }
  },
  "cells": [
    {
      "cell_type": "markdown",
      "metadata": {
        "id": "view-in-github",
        "colab_type": "text"
      },
      "source": [
        "<a href=\"https://colab.research.google.com/github/Bloodflake/Boston-housing-using-tensorflow/blob/master/Boston_housing_price_prediction.ipynb\" target=\"_parent\"><img src=\"https://colab.research.google.com/assets/colab-badge.svg\" alt=\"Open In Colab\"/></a>"
      ]
    },
    {
      "cell_type": "code",
      "metadata": {
        "id": "iYAoQQwzn76F",
        "colab_type": "code",
        "colab": {
          "base_uri": "https://localhost:8080/",
          "height": 34
        },
        "outputId": "c34ee0a8-6d50-4cd3-d41b-468fa5547872"
      },
      "source": [
        "try:\n",
        "  %tensorflow_version 2.x\n",
        "except Exception:\n",
        "  pass\n",
        "import tensorflow as tf"
      ],
      "execution_count": 1,
      "outputs": [
        {
          "output_type": "stream",
          "text": [
            "TensorFlow 2.x selected.\n"
          ],
          "name": "stdout"
        }
      ]
    },
    {
      "cell_type": "code",
      "metadata": {
        "id": "BXorHAPTzSxG",
        "colab_type": "code",
        "colab": {}
      },
      "source": [
        "import numpy as np"
      ],
      "execution_count": 0,
      "outputs": []
    },
    {
      "cell_type": "code",
      "metadata": {
        "id": "C4h0dQa_n8p3",
        "colab_type": "code",
        "colab": {}
      },
      "source": [
        "data = tf.keras.datasets.boston_housing.load_data()"
      ],
      "execution_count": 0,
      "outputs": []
    },
    {
      "cell_type": "code",
      "metadata": {
        "id": "3bSzGpBXrLQ4",
        "colab_type": "code",
        "colab": {
          "base_uri": "https://localhost:8080/",
          "height": 34
        },
        "outputId": "06b88f76-875d-4b6f-b074-1f0905b21dfe"
      },
      "source": [
        "type(data)"
      ],
      "execution_count": 3,
      "outputs": [
        {
          "output_type": "execute_result",
          "data": {
            "text/plain": [
              "tuple"
            ]
          },
          "metadata": {
            "tags": []
          },
          "execution_count": 3
        }
      ]
    },
    {
      "cell_type": "code",
      "metadata": {
        "id": "Nv42ZRzArN0g",
        "colab_type": "code",
        "colab": {}
      },
      "source": [
        "(train_x,train_y),(test_x,test_y) = data"
      ],
      "execution_count": 0,
      "outputs": []
    },
    {
      "cell_type": "code",
      "metadata": {
        "id": "0qHeKZ1erWxT",
        "colab_type": "code",
        "colab": {
          "base_uri": "https://localhost:8080/",
          "height": 50
        },
        "outputId": "cf4abf26-25ed-481d-9292-dd959971aec8"
      },
      "source": [
        "print(f\"shape of train{train_x.shape}\")\n",
        "print(f\"shape of test{test_x.shape}\")"
      ],
      "execution_count": 5,
      "outputs": [
        {
          "output_type": "stream",
          "text": [
            "shape of train(404, 13)\n",
            "shape of test(102, 13)\n"
          ],
          "name": "stdout"
        }
      ]
    },
    {
      "cell_type": "code",
      "metadata": {
        "id": "Fqe27D2jzL7F",
        "colab_type": "code",
        "colab": {}
      },
      "source": [
        "trainmean = train_x.mean(axis=0)\n",
        "trainstd = train_x.std(axis=0)\n",
        "train_x -=trainmean\n",
        "train_x /=trainstd"
      ],
      "execution_count": 0,
      "outputs": []
    },
    {
      "cell_type": "code",
      "metadata": {
        "id": "7RUwTqii0F60",
        "colab_type": "code",
        "colab": {}
      },
      "source": [
        "testmean = test_x.mean(axis=0)\n",
        "teststd = test_x.std(axis=0)\n",
        "test_x -=testmean\n",
        "test_x /=teststd"
      ],
      "execution_count": 0,
      "outputs": []
    },
    {
      "cell_type": "code",
      "metadata": {
        "id": "R6B3_EerrjDw",
        "colab_type": "code",
        "colab": {}
      },
      "source": [
        "def Model():\n",
        "  model = tf.keras.models.Sequential()\n",
        "  model.add(tf.keras.layers.Dense(64,\"relu\",input_shape=(train_x.shape[-1],)))\n",
        "  model.add(tf.keras.layers.Dense(64,\"relu\"))\n",
        "  model.add(tf.keras.layers.Dense(1))\n",
        "  model.compile(optimizer='rmsprop', loss='mse', metrics=['mae'])\n",
        "  return model"
      ],
      "execution_count": 0,
      "outputs": []
    },
    {
      "cell_type": "code",
      "metadata": {
        "id": "UN48R0TnyjFk",
        "colab_type": "code",
        "colab": {}
      },
      "source": [
        ""
      ],
      "execution_count": 0,
      "outputs": []
    },
    {
      "cell_type": "code",
      "metadata": {
        "id": "H2LeuU4csS0i",
        "colab_type": "code",
        "colab": {}
      },
      "source": [
        "NN_Model = Model()"
      ],
      "execution_count": 0,
      "outputs": []
    },
    {
      "cell_type": "code",
      "metadata": {
        "id": "VI3OPbADsatc",
        "colab_type": "code",
        "colab": {
          "base_uri": "https://localhost:8080/",
          "height": 1000
        },
        "outputId": "25975f42-3c7d-4f1b-e402-487397de6ac1"
      },
      "source": [
        "NN_Model.fit(train_x,train_y,epochs=100,validation_data=(test_x[51:],test_y[51:]))"
      ],
      "execution_count": 24,
      "outputs": [
        {
          "output_type": "stream",
          "text": [
            "Train on 404 samples, validate on 51 samples\n",
            "Epoch 1/100\n",
            "404/404 [==============================] - 1s 2ms/sample - loss: 566.0270 - mae: 21.9459 - val_loss: 585.6451 - val_mae: 22.0769\n",
            "Epoch 2/100\n",
            "404/404 [==============================] - 0s 87us/sample - loss: 494.3432 - mae: 20.3077 - val_loss: 500.2020 - val_mae: 20.1557\n",
            "Epoch 3/100\n",
            "404/404 [==============================] - 0s 91us/sample - loss: 407.5834 - mae: 18.2053 - val_loss: 396.1536 - val_mae: 17.6149\n",
            "Epoch 4/100\n",
            "404/404 [==============================] - 0s 93us/sample - loss: 312.7096 - mae: 15.5783 - val_loss: 294.4916 - val_mae: 14.7523\n",
            "Epoch 5/100\n",
            "404/404 [==============================] - 0s 89us/sample - loss: 222.6993 - mae: 12.5825 - val_loss: 201.4855 - val_mae: 12.0999\n",
            "Epoch 6/100\n",
            "404/404 [==============================] - 0s 96us/sample - loss: 150.1510 - mae: 9.7853 - val_loss: 134.0805 - val_mae: 9.7778\n",
            "Epoch 7/100\n",
            "404/404 [==============================] - 0s 102us/sample - loss: 102.2893 - mae: 7.8326 - val_loss: 89.8928 - val_mae: 7.6832\n",
            "Epoch 8/100\n",
            "404/404 [==============================] - 0s 111us/sample - loss: 74.5655 - mae: 6.5853 - val_loss: 69.6011 - val_mae: 6.5613\n",
            "Epoch 9/100\n",
            "404/404 [==============================] - 0s 99us/sample - loss: 57.9249 - mae: 5.7863 - val_loss: 53.0523 - val_mae: 5.5927\n",
            "Epoch 10/100\n",
            "404/404 [==============================] - 0s 96us/sample - loss: 45.0186 - mae: 4.9970 - val_loss: 44.1959 - val_mae: 5.0892\n",
            "Epoch 11/100\n",
            "404/404 [==============================] - 0s 102us/sample - loss: 35.9569 - mae: 4.4058 - val_loss: 37.2459 - val_mae: 4.6590\n",
            "Epoch 12/100\n",
            "404/404 [==============================] - 0s 94us/sample - loss: 30.0657 - mae: 3.9494 - val_loss: 33.2116 - val_mae: 4.3944\n",
            "Epoch 13/100\n",
            "404/404 [==============================] - 0s 93us/sample - loss: 26.0975 - mae: 3.6709 - val_loss: 30.6423 - val_mae: 4.1286\n",
            "Epoch 14/100\n",
            "404/404 [==============================] - 0s 97us/sample - loss: 23.2994 - mae: 3.4235 - val_loss: 29.0743 - val_mae: 4.0001\n",
            "Epoch 15/100\n",
            "404/404 [==============================] - 0s 104us/sample - loss: 21.3110 - mae: 3.2347 - val_loss: 28.5394 - val_mae: 3.9071\n",
            "Epoch 16/100\n",
            "404/404 [==============================] - 0s 94us/sample - loss: 19.6815 - mae: 3.0922 - val_loss: 28.2336 - val_mae: 3.8397\n",
            "Epoch 17/100\n",
            "404/404 [==============================] - 0s 90us/sample - loss: 18.6428 - mae: 3.0159 - val_loss: 28.2444 - val_mae: 3.7780\n",
            "Epoch 18/100\n",
            "404/404 [==============================] - 0s 93us/sample - loss: 17.2785 - mae: 2.8745 - val_loss: 28.4131 - val_mae: 3.6895\n",
            "Epoch 19/100\n",
            "404/404 [==============================] - 0s 95us/sample - loss: 16.2684 - mae: 2.7934 - val_loss: 29.6685 - val_mae: 3.8207\n",
            "Epoch 20/100\n",
            "404/404 [==============================] - 0s 98us/sample - loss: 15.5692 - mae: 2.7240 - val_loss: 28.3106 - val_mae: 3.5348\n",
            "Epoch 21/100\n",
            "404/404 [==============================] - 0s 96us/sample - loss: 14.7734 - mae: 2.6533 - val_loss: 28.2838 - val_mae: 3.5509\n",
            "Epoch 22/100\n",
            "404/404 [==============================] - 0s 105us/sample - loss: 14.2331 - mae: 2.5938 - val_loss: 28.5653 - val_mae: 3.5472\n",
            "Epoch 23/100\n",
            "404/404 [==============================] - 0s 107us/sample - loss: 13.4805 - mae: 2.5392 - val_loss: 28.2245 - val_mae: 3.4804\n",
            "Epoch 24/100\n",
            "404/404 [==============================] - 0s 94us/sample - loss: 13.1980 - mae: 2.5365 - val_loss: 28.1259 - val_mae: 3.4691\n",
            "Epoch 25/100\n",
            "404/404 [==============================] - 0s 99us/sample - loss: 12.5073 - mae: 2.4432 - val_loss: 28.5647 - val_mae: 3.5312\n",
            "Epoch 26/100\n",
            "404/404 [==============================] - 0s 92us/sample - loss: 12.3559 - mae: 2.4477 - val_loss: 29.3677 - val_mae: 3.5824\n",
            "Epoch 27/100\n",
            "404/404 [==============================] - 0s 95us/sample - loss: 12.1343 - mae: 2.4318 - val_loss: 28.9053 - val_mae: 3.5080\n",
            "Epoch 28/100\n",
            "404/404 [==============================] - 0s 92us/sample - loss: 11.7299 - mae: 2.3731 - val_loss: 28.7803 - val_mae: 3.4637\n",
            "Epoch 29/100\n",
            "404/404 [==============================] - 0s 90us/sample - loss: 11.2951 - mae: 2.3593 - val_loss: 28.5803 - val_mae: 3.4237\n",
            "Epoch 30/100\n",
            "404/404 [==============================] - 0s 95us/sample - loss: 11.2028 - mae: 2.3476 - val_loss: 29.5829 - val_mae: 3.5145\n",
            "Epoch 31/100\n",
            "404/404 [==============================] - 0s 104us/sample - loss: 10.9938 - mae: 2.3362 - val_loss: 28.7554 - val_mae: 3.3944\n",
            "Epoch 32/100\n",
            "404/404 [==============================] - 0s 97us/sample - loss: 10.7511 - mae: 2.3006 - val_loss: 30.2587 - val_mae: 3.6455\n",
            "Epoch 33/100\n",
            "404/404 [==============================] - 0s 92us/sample - loss: 10.6783 - mae: 2.2895 - val_loss: 28.7652 - val_mae: 3.3899\n",
            "Epoch 34/100\n",
            "404/404 [==============================] - 0s 94us/sample - loss: 10.4907 - mae: 2.2453 - val_loss: 29.5023 - val_mae: 3.4877\n",
            "Epoch 35/100\n",
            "404/404 [==============================] - 0s 90us/sample - loss: 10.2283 - mae: 2.2506 - val_loss: 29.3539 - val_mae: 3.4114\n",
            "Epoch 36/100\n",
            "404/404 [==============================] - 0s 95us/sample - loss: 10.3678 - mae: 2.2567 - val_loss: 29.0647 - val_mae: 3.3944\n",
            "Epoch 37/100\n",
            "404/404 [==============================] - 0s 100us/sample - loss: 10.1114 - mae: 2.2493 - val_loss: 28.7160 - val_mae: 3.3421\n",
            "Epoch 38/100\n",
            "404/404 [==============================] - 0s 97us/sample - loss: 10.1084 - mae: 2.2380 - val_loss: 29.1259 - val_mae: 3.3286\n",
            "Epoch 39/100\n",
            "404/404 [==============================] - 0s 100us/sample - loss: 9.9014 - mae: 2.2222 - val_loss: 28.6969 - val_mae: 3.3130\n",
            "Epoch 40/100\n",
            "404/404 [==============================] - 0s 96us/sample - loss: 9.7168 - mae: 2.1874 - val_loss: 29.0217 - val_mae: 3.3108\n",
            "Epoch 41/100\n",
            "404/404 [==============================] - 0s 97us/sample - loss: 9.8280 - mae: 2.1980 - val_loss: 29.3702 - val_mae: 3.4906\n",
            "Epoch 42/100\n",
            "404/404 [==============================] - 0s 95us/sample - loss: 9.5033 - mae: 2.1808 - val_loss: 29.3536 - val_mae: 3.4580\n",
            "Epoch 43/100\n",
            "404/404 [==============================] - 0s 102us/sample - loss: 9.6392 - mae: 2.1918 - val_loss: 28.1600 - val_mae: 3.2429\n",
            "Epoch 44/100\n",
            "404/404 [==============================] - 0s 94us/sample - loss: 9.2651 - mae: 2.1278 - val_loss: 29.3435 - val_mae: 3.3239\n",
            "Epoch 45/100\n",
            "404/404 [==============================] - 0s 93us/sample - loss: 9.3383 - mae: 2.1695 - val_loss: 28.4329 - val_mae: 3.2728\n",
            "Epoch 46/100\n",
            "404/404 [==============================] - 0s 103us/sample - loss: 9.2544 - mae: 2.1403 - val_loss: 28.9819 - val_mae: 3.3273\n",
            "Epoch 47/100\n",
            "404/404 [==============================] - 0s 96us/sample - loss: 9.2971 - mae: 2.1914 - val_loss: 28.2434 - val_mae: 3.2340\n",
            "Epoch 48/100\n",
            "404/404 [==============================] - 0s 89us/sample - loss: 9.0928 - mae: 2.1432 - val_loss: 28.0991 - val_mae: 3.2528\n",
            "Epoch 49/100\n",
            "404/404 [==============================] - 0s 112us/sample - loss: 8.8676 - mae: 2.1063 - val_loss: 28.2557 - val_mae: 3.1951\n",
            "Epoch 50/100\n",
            "404/404 [==============================] - 0s 95us/sample - loss: 8.9669 - mae: 2.1474 - val_loss: 27.9989 - val_mae: 3.2179\n",
            "Epoch 51/100\n",
            "404/404 [==============================] - 0s 94us/sample - loss: 8.8203 - mae: 2.0885 - val_loss: 28.2734 - val_mae: 3.2905\n",
            "Epoch 52/100\n",
            "404/404 [==============================] - 0s 94us/sample - loss: 8.7494 - mae: 2.0863 - val_loss: 28.7321 - val_mae: 3.2906\n",
            "Epoch 53/100\n",
            "404/404 [==============================] - 0s 93us/sample - loss: 8.9801 - mae: 2.1305 - val_loss: 28.8235 - val_mae: 3.4072\n",
            "Epoch 54/100\n",
            "404/404 [==============================] - 0s 92us/sample - loss: 8.6357 - mae: 2.0935 - val_loss: 28.4499 - val_mae: 3.1708\n",
            "Epoch 55/100\n",
            "404/404 [==============================] - 0s 104us/sample - loss: 8.6703 - mae: 2.0881 - val_loss: 28.0503 - val_mae: 3.2087\n",
            "Epoch 56/100\n",
            "404/404 [==============================] - 0s 106us/sample - loss: 8.4098 - mae: 2.0834 - val_loss: 27.8649 - val_mae: 3.2001\n",
            "Epoch 57/100\n",
            "404/404 [==============================] - 0s 94us/sample - loss: 8.4136 - mae: 2.0703 - val_loss: 27.6657 - val_mae: 3.2483\n",
            "Epoch 58/100\n",
            "404/404 [==============================] - 0s 98us/sample - loss: 8.2902 - mae: 2.0493 - val_loss: 28.5701 - val_mae: 3.2953\n",
            "Epoch 59/100\n",
            "404/404 [==============================] - 0s 96us/sample - loss: 8.1522 - mae: 2.0392 - val_loss: 27.6571 - val_mae: 3.1926\n",
            "Epoch 60/100\n",
            "404/404 [==============================] - 0s 90us/sample - loss: 8.1245 - mae: 2.0336 - val_loss: 27.6925 - val_mae: 3.1435\n",
            "Epoch 61/100\n",
            "404/404 [==============================] - 0s 98us/sample - loss: 8.1521 - mae: 2.0380 - val_loss: 28.4253 - val_mae: 3.4222\n",
            "Epoch 62/100\n",
            "404/404 [==============================] - 0s 100us/sample - loss: 8.3017 - mae: 2.0495 - val_loss: 27.2572 - val_mae: 3.1109\n",
            "Epoch 63/100\n",
            "404/404 [==============================] - 0s 103us/sample - loss: 7.9416 - mae: 1.9964 - val_loss: 28.2180 - val_mae: 3.1639\n",
            "Epoch 64/100\n",
            "404/404 [==============================] - 0s 97us/sample - loss: 8.0594 - mae: 2.0254 - val_loss: 28.4117 - val_mae: 3.4625\n",
            "Epoch 65/100\n",
            "404/404 [==============================] - 0s 105us/sample - loss: 7.9704 - mae: 2.0020 - val_loss: 27.1172 - val_mae: 3.1486\n",
            "Epoch 66/100\n",
            "404/404 [==============================] - 0s 93us/sample - loss: 7.9944 - mae: 2.0141 - val_loss: 27.0569 - val_mae: 3.1362\n",
            "Epoch 67/100\n",
            "404/404 [==============================] - 0s 99us/sample - loss: 7.7357 - mae: 1.9714 - val_loss: 26.9101 - val_mae: 3.1087\n",
            "Epoch 68/100\n",
            "404/404 [==============================] - 0s 92us/sample - loss: 7.9000 - mae: 1.9844 - val_loss: 28.0150 - val_mae: 3.3267\n",
            "Epoch 69/100\n",
            "404/404 [==============================] - 0s 95us/sample - loss: 7.7587 - mae: 1.9816 - val_loss: 27.8901 - val_mae: 3.1591\n",
            "Epoch 70/100\n",
            "404/404 [==============================] - 0s 96us/sample - loss: 7.6237 - mae: 1.9933 - val_loss: 27.1428 - val_mae: 3.1253\n",
            "Epoch 71/100\n",
            "404/404 [==============================] - 0s 101us/sample - loss: 7.5535 - mae: 1.9638 - val_loss: 27.2213 - val_mae: 3.1107\n",
            "Epoch 72/100\n",
            "404/404 [==============================] - 0s 92us/sample - loss: 7.8807 - mae: 2.0127 - val_loss: 27.3343 - val_mae: 3.2046\n",
            "Epoch 73/100\n",
            "404/404 [==============================] - 0s 102us/sample - loss: 7.5862 - mae: 1.9570 - val_loss: 26.8270 - val_mae: 3.1250\n",
            "Epoch 74/100\n",
            "404/404 [==============================] - 0s 97us/sample - loss: 7.3853 - mae: 1.9509 - val_loss: 27.4770 - val_mae: 3.0706\n",
            "Epoch 75/100\n",
            "404/404 [==============================] - 0s 93us/sample - loss: 7.7215 - mae: 1.9784 - val_loss: 27.3907 - val_mae: 3.0990\n",
            "Epoch 76/100\n",
            "404/404 [==============================] - 0s 97us/sample - loss: 7.4288 - mae: 1.9347 - val_loss: 26.5950 - val_mae: 3.0839\n",
            "Epoch 77/100\n",
            "404/404 [==============================] - 0s 95us/sample - loss: 7.2762 - mae: 1.9090 - val_loss: 27.6189 - val_mae: 3.2764\n",
            "Epoch 78/100\n",
            "404/404 [==============================] - 0s 106us/sample - loss: 7.4924 - mae: 1.9609 - val_loss: 26.5961 - val_mae: 3.0663\n",
            "Epoch 79/100\n",
            "404/404 [==============================] - 0s 101us/sample - loss: 7.2244 - mae: 1.8980 - val_loss: 26.9821 - val_mae: 3.0773\n",
            "Epoch 80/100\n",
            "404/404 [==============================] - 0s 92us/sample - loss: 7.1381 - mae: 1.8872 - val_loss: 27.2233 - val_mae: 3.3053\n",
            "Epoch 81/100\n",
            "404/404 [==============================] - 0s 94us/sample - loss: 7.3447 - mae: 1.9193 - val_loss: 26.6753 - val_mae: 3.0812\n",
            "Epoch 82/100\n",
            "404/404 [==============================] - 0s 93us/sample - loss: 7.1645 - mae: 1.9175 - val_loss: 27.4665 - val_mae: 3.2447\n",
            "Epoch 83/100\n",
            "404/404 [==============================] - 0s 98us/sample - loss: 7.1969 - mae: 1.9048 - val_loss: 26.8057 - val_mae: 3.1188\n",
            "Epoch 84/100\n",
            "404/404 [==============================] - 0s 102us/sample - loss: 7.2108 - mae: 1.8993 - val_loss: 26.1369 - val_mae: 3.0897\n",
            "Epoch 85/100\n",
            "404/404 [==============================] - 0s 103us/sample - loss: 7.0236 - mae: 1.8733 - val_loss: 26.2375 - val_mae: 3.0313\n",
            "Epoch 86/100\n",
            "404/404 [==============================] - 0s 97us/sample - loss: 7.1026 - mae: 1.8875 - val_loss: 26.3081 - val_mae: 3.0508\n",
            "Epoch 87/100\n",
            "404/404 [==============================] - 0s 111us/sample - loss: 6.9866 - mae: 1.8817 - val_loss: 25.8999 - val_mae: 2.9935\n",
            "Epoch 88/100\n",
            "404/404 [==============================] - 0s 98us/sample - loss: 7.0742 - mae: 1.8943 - val_loss: 26.1567 - val_mae: 3.0515\n",
            "Epoch 89/100\n",
            "404/404 [==============================] - 0s 93us/sample - loss: 6.8391 - mae: 1.8446 - val_loss: 26.0124 - val_mae: 3.0517\n",
            "Epoch 90/100\n",
            "404/404 [==============================] - 0s 113us/sample - loss: 7.0427 - mae: 1.9139 - val_loss: 26.5017 - val_mae: 3.1618\n",
            "Epoch 91/100\n",
            "404/404 [==============================] - 0s 95us/sample - loss: 6.8390 - mae: 1.8521 - val_loss: 26.2880 - val_mae: 3.0642\n",
            "Epoch 92/100\n",
            "404/404 [==============================] - 0s 96us/sample - loss: 6.8055 - mae: 1.8496 - val_loss: 26.5184 - val_mae: 3.0561\n",
            "Epoch 93/100\n",
            "404/404 [==============================] - 0s 96us/sample - loss: 6.7317 - mae: 1.8461 - val_loss: 26.9958 - val_mae: 3.2906\n",
            "Epoch 94/100\n",
            "404/404 [==============================] - 0s 93us/sample - loss: 6.6562 - mae: 1.8169 - val_loss: 26.1077 - val_mae: 3.0365\n",
            "Epoch 95/100\n",
            "404/404 [==============================] - 0s 95us/sample - loss: 6.6013 - mae: 1.8372 - val_loss: 26.1725 - val_mae: 3.0100\n",
            "Epoch 96/100\n",
            "404/404 [==============================] - 0s 86us/sample - loss: 6.6477 - mae: 1.8511 - val_loss: 26.1108 - val_mae: 3.1393\n",
            "Epoch 97/100\n",
            "404/404 [==============================] - 0s 102us/sample - loss: 6.5602 - mae: 1.7968 - val_loss: 25.8642 - val_mae: 3.0499\n",
            "Epoch 98/100\n",
            "404/404 [==============================] - 0s 93us/sample - loss: 6.6531 - mae: 1.8497 - val_loss: 26.0976 - val_mae: 2.9688\n",
            "Epoch 99/100\n",
            "404/404 [==============================] - 0s 95us/sample - loss: 6.5783 - mae: 1.8143 - val_loss: 26.3554 - val_mae: 3.0673\n",
            "Epoch 100/100\n",
            "404/404 [==============================] - 0s 94us/sample - loss: 6.4675 - mae: 1.8244 - val_loss: 26.3719 - val_mae: 3.1900\n"
          ],
          "name": "stdout"
        },
        {
          "output_type": "execute_result",
          "data": {
            "text/plain": [
              "<tensorflow.python.keras.callbacks.History at 0x7f4703aae898>"
            ]
          },
          "metadata": {
            "tags": []
          },
          "execution_count": 24
        }
      ]
    },
    {
      "cell_type": "code",
      "metadata": {
        "id": "-8dkqnWKtF9f",
        "colab_type": "code",
        "colab": {
          "base_uri": "https://localhost:8080/",
          "height": 70
        },
        "outputId": "568287b5-7273-40d0-e950-89a700abdb08"
      },
      "source": [
        "NN_Model.evaluate(test_x,test_y)"
      ],
      "execution_count": 25,
      "outputs": [
        {
          "output_type": "stream",
          "text": [
            "\r102/1 [====================================================================================================================================================================================================================================================================================================================================================================================================================================================================================================================================================================================================================================================================================================================================================================================================================================================================================================================================================================================================================================================================================================================================================================================================================================================================================================================================================================================================================================================================================================================================================================================================================================================================================================================================================================================================================================================================================================================================================================================================================================================================================================================================================================================================================================================================================================================================================================================================================================================================================================================================================================================================================================================================================================================================================================================================================================================================================================================================================================================================================================================================================================================================================================================] - 0s 70us/sample - loss: 58.3873 - mae: 2.7596\n"
          ],
          "name": "stdout"
        },
        {
          "output_type": "execute_result",
          "data": {
            "text/plain": [
              "[17.369008232565488, 2.7596462]"
            ]
          },
          "metadata": {
            "tags": []
          },
          "execution_count": 25
        }
      ]
    },
    {
      "cell_type": "code",
      "metadata": {
        "id": "2iB3TFRstftG",
        "colab_type": "code",
        "colab": {}
      },
      "source": [
        ""
      ],
      "execution_count": 0,
      "outputs": []
    }
  ]
}